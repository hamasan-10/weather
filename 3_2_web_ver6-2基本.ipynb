{
 "cells": [
  {
   "attachments": {},
   "cell_type": "markdown",
   "metadata": {},
   "source": [
    "# 3webアプリ作成"
   ]
  },
  {
   "attachments": {},
   "cell_type": "markdown",
   "metadata": {},
   "source": [
    "目次：https://docs.google.com/document/d/1eDw9PK5Ft0vImu81e7oERB_q-dZvxbFe8bGetZBgEEg/edit"
   ]
  },
  {
   "attachments": {},
   "cell_type": "markdown",
   "metadata": {},
   "source": [
    "## 3.2 基本実装"
   ]
  },
  {
   "attachments": {},
   "cell_type": "markdown",
   "metadata": {},
   "source": [
    "### 3.2.1 Streamlit入門"
   ]
  },
  {
   "attachments": {},
   "cell_type": "markdown",
   "metadata": {},
   "source": [
    "#### streamlitの大枠説明"
   ]
  },
  {
   "attachments": {},
   "cell_type": "markdown",
   "metadata": {},
   "source": [
    "- Streamlitを使用すると、データをダイナミックに可視化し、データ解析プロセスを自動化し、説明的なダッシュボードを作成することができます。  \n",
    "また、同じアプリケーションを複数のユーザーが共有することもできます。\n",
    "- たった1行のコードで欲しい機能を実装できます。  \n",
    "例えば、st.titleやst.writeで文字を表示でき、st.uploadでファイルアップロード実装できます。\n",
    "- チュートリアルも充実しており、やりたいことは調べればすぐにでてきます。  \n",
    "参考として、公式のチュートリアルを載せておきます。https://docs.streamlit.io/library/get-started/create-an-app#create-an-app\n",
    "- 現在、DataSciece分野やAI分野を中心にユーザーが増えており、サンプルコードがたくさんあります。\n",
    "- インストールは簡単にでき、pipコマンドを使う事でインストールできます。  \n",
    "具体例として下記のコードがインストールに使うpipコマンドです。\n"
   ]
  },
  {
   "cell_type": "code",
   "execution_count": 1,
   "metadata": {},
   "outputs": [
    {
     "name": "stdout",
     "output_type": "stream",
     "text": [
      "Requirement already satisfied: streamlit in c:\\users\\beach\\appdata\\local\\programs\\python\\python313\\lib\\site-packages (1.44.0)\n",
      "Requirement already satisfied: altair<6,>=4.0 in c:\\users\\beach\\appdata\\local\\programs\\python\\python313\\lib\\site-packages (from streamlit) (5.5.0)\n",
      "Requirement already satisfied: blinker<2,>=1.0.0 in c:\\users\\beach\\appdata\\local\\programs\\python\\python313\\lib\\site-packages (from streamlit) (1.9.0)\n",
      "Requirement already satisfied: cachetools<6,>=4.0 in c:\\users\\beach\\appdata\\local\\programs\\python\\python313\\lib\\site-packages (from streamlit) (5.5.2)\n",
      "Requirement already satisfied: click<9,>=7.0 in c:\\users\\beach\\appdata\\local\\programs\\python\\python313\\lib\\site-packages (from streamlit) (8.1.8)\n",
      "Requirement already satisfied: numpy<3,>=1.23 in c:\\users\\beach\\appdata\\local\\programs\\python\\python313\\lib\\site-packages (from streamlit) (2.2.4)\n",
      "Requirement already satisfied: packaging<25,>=20 in c:\\users\\beach\\appdata\\roaming\\python\\python313\\site-packages (from streamlit) (24.2)\n",
      "Requirement already satisfied: pandas<3,>=1.4.0 in c:\\users\\beach\\appdata\\local\\programs\\python\\python313\\lib\\site-packages (from streamlit) (2.2.3)\n",
      "Requirement already satisfied: pillow<12,>=7.1.0 in c:\\users\\beach\\appdata\\local\\programs\\python\\python313\\lib\\site-packages (from streamlit) (11.1.0)\n",
      "Requirement already satisfied: protobuf<6,>=3.20 in c:\\users\\beach\\appdata\\local\\programs\\python\\python313\\lib\\site-packages (from streamlit) (5.29.4)\n",
      "Requirement already satisfied: pyarrow>=7.0 in c:\\users\\beach\\appdata\\local\\programs\\python\\python313\\lib\\site-packages (from streamlit) (19.0.1)\n",
      "Requirement already satisfied: requests<3,>=2.27 in c:\\users\\beach\\appdata\\local\\programs\\python\\python313\\lib\\site-packages (from streamlit) (2.32.3)\n",
      "Requirement already satisfied: tenacity<10,>=8.1.0 in c:\\users\\beach\\appdata\\local\\programs\\python\\python313\\lib\\site-packages (from streamlit) (9.0.0)\n",
      "Requirement already satisfied: toml<2,>=0.10.1 in c:\\users\\beach\\appdata\\local\\programs\\python\\python313\\lib\\site-packages (from streamlit) (0.10.2)\n",
      "Requirement already satisfied: typing-extensions<5,>=4.4.0 in c:\\users\\beach\\appdata\\local\\programs\\python\\python313\\lib\\site-packages (from streamlit) (4.13.0)\n",
      "Requirement already satisfied: watchdog<7,>=2.1.5 in c:\\users\\beach\\appdata\\local\\programs\\python\\python313\\lib\\site-packages (from streamlit) (6.0.0)\n",
      "Requirement already satisfied: gitpython!=3.1.19,<4,>=3.0.7 in c:\\users\\beach\\appdata\\local\\programs\\python\\python313\\lib\\site-packages (from streamlit) (3.1.44)\n",
      "Requirement already satisfied: pydeck<1,>=0.8.0b4 in c:\\users\\beach\\appdata\\local\\programs\\python\\python313\\lib\\site-packages (from streamlit) (0.9.1)\n",
      "Requirement already satisfied: tornado<7,>=6.0.3 in c:\\users\\beach\\appdata\\roaming\\python\\python313\\site-packages (from streamlit) (6.4.2)\n",
      "Requirement already satisfied: jinja2 in c:\\users\\beach\\appdata\\local\\programs\\python\\python313\\lib\\site-packages (from altair<6,>=4.0->streamlit) (3.1.6)\n",
      "Requirement already satisfied: jsonschema>=3.0 in c:\\users\\beach\\appdata\\local\\programs\\python\\python313\\lib\\site-packages (from altair<6,>=4.0->streamlit) (4.23.0)\n",
      "Requirement already satisfied: narwhals>=1.14.2 in c:\\users\\beach\\appdata\\local\\programs\\python\\python313\\lib\\site-packages (from altair<6,>=4.0->streamlit) (1.33.0)\n",
      "Requirement already satisfied: colorama in c:\\users\\beach\\appdata\\roaming\\python\\python313\\site-packages (from click<9,>=7.0->streamlit) (0.4.6)\n",
      "Requirement already satisfied: gitdb<5,>=4.0.1 in c:\\users\\beach\\appdata\\local\\programs\\python\\python313\\lib\\site-packages (from gitpython!=3.1.19,<4,>=3.0.7->streamlit) (4.0.12)\n",
      "Requirement already satisfied: python-dateutil>=2.8.2 in c:\\users\\beach\\appdata\\roaming\\python\\python313\\site-packages (from pandas<3,>=1.4.0->streamlit) (2.9.0.post0)\n",
      "Requirement already satisfied: pytz>=2020.1 in c:\\users\\beach\\appdata\\local\\programs\\python\\python313\\lib\\site-packages (from pandas<3,>=1.4.0->streamlit) (2025.2)\n",
      "Requirement already satisfied: tzdata>=2022.7 in c:\\users\\beach\\appdata\\local\\programs\\python\\python313\\lib\\site-packages (from pandas<3,>=1.4.0->streamlit) (2025.2)\n",
      "Requirement already satisfied: charset-normalizer<4,>=2 in c:\\users\\beach\\appdata\\local\\programs\\python\\python313\\lib\\site-packages (from requests<3,>=2.27->streamlit) (3.4.1)\n",
      "Requirement already satisfied: idna<4,>=2.5 in c:\\users\\beach\\appdata\\local\\programs\\python\\python313\\lib\\site-packages (from requests<3,>=2.27->streamlit) (3.10)\n",
      "Requirement already satisfied: urllib3<3,>=1.21.1 in c:\\users\\beach\\appdata\\local\\programs\\python\\python313\\lib\\site-packages (from requests<3,>=2.27->streamlit) (2.3.0)\n",
      "Requirement already satisfied: certifi>=2017.4.17 in c:\\users\\beach\\appdata\\local\\programs\\python\\python313\\lib\\site-packages (from requests<3,>=2.27->streamlit) (2025.1.31)\n",
      "Requirement already satisfied: smmap<6,>=3.0.1 in c:\\users\\beach\\appdata\\local\\programs\\python\\python313\\lib\\site-packages (from gitdb<5,>=4.0.1->gitpython!=3.1.19,<4,>=3.0.7->streamlit) (5.0.2)\n",
      "Requirement already satisfied: MarkupSafe>=2.0 in c:\\users\\beach\\appdata\\local\\programs\\python\\python313\\lib\\site-packages (from jinja2->altair<6,>=4.0->streamlit) (3.0.2)\n",
      "Requirement already satisfied: attrs>=22.2.0 in c:\\users\\beach\\appdata\\local\\programs\\python\\python313\\lib\\site-packages (from jsonschema>=3.0->altair<6,>=4.0->streamlit) (25.3.0)\n",
      "Requirement already satisfied: jsonschema-specifications>=2023.03.6 in c:\\users\\beach\\appdata\\local\\programs\\python\\python313\\lib\\site-packages (from jsonschema>=3.0->altair<6,>=4.0->streamlit) (2024.10.1)\n",
      "Requirement already satisfied: referencing>=0.28.4 in c:\\users\\beach\\appdata\\local\\programs\\python\\python313\\lib\\site-packages (from jsonschema>=3.0->altair<6,>=4.0->streamlit) (0.36.2)\n",
      "Requirement already satisfied: rpds-py>=0.7.1 in c:\\users\\beach\\appdata\\local\\programs\\python\\python313\\lib\\site-packages (from jsonschema>=3.0->altair<6,>=4.0->streamlit) (0.24.0)\n",
      "Requirement already satisfied: six>=1.5 in c:\\users\\beach\\appdata\\roaming\\python\\python313\\site-packages (from python-dateutil>=2.8.2->pandas<3,>=1.4.0->streamlit) (1.17.0)\n"
     ]
    },
    {
     "name": "stderr",
     "output_type": "stream",
     "text": [
      "\n",
      "[notice] A new release of pip is available: 24.3.1 -> 25.0.1\n",
      "[notice] To update, run: python.exe -m pip install --upgrade pip\n"
     ]
    },
    {
     "name": "stdout",
     "output_type": "stream",
     "text": [
      "Collecting protobuf==3.20\n",
      "  Downloading protobuf-3.20.0-py2.py3-none-any.whl.metadata (720 bytes)\n",
      "Downloading protobuf-3.20.0-py2.py3-none-any.whl (162 kB)\n",
      "Installing collected packages: protobuf\n",
      "  Attempting uninstall: protobuf\n",
      "    Found existing installation: protobuf 5.29.4\n",
      "    Uninstalling protobuf-5.29.4:\n",
      "      Successfully uninstalled protobuf-5.29.4\n",
      "Successfully installed protobuf-3.20.0\n"
     ]
    },
    {
     "name": "stderr",
     "output_type": "stream",
     "text": [
      "\n",
      "[notice] A new release of pip is available: 24.3.1 -> 25.0.1\n",
      "[notice] To update, run: python.exe -m pip install --upgrade pip\n"
     ]
    }
   ],
   "source": [
    "# streamlitインストール方法\n",
    "# ターミナルで実行します。\n",
    "!pip install streamlit\n",
    "# 注意点はライブラリのprotobufのバージョンは3.20がおすすめで、最新バージョンの4.20は動作しない\n",
    "# バージョン指定は\"==\"をつかって指定する\n",
    "!pip install protobuf==3.20"
   ]
  },
  {
   "attachments": {},
   "cell_type": "markdown",
   "metadata": {},
   "source": [
    "#### （コラム）環境構築は鬼門！絶対になめたらダメ！"
   ]
  },
  {
   "attachments": {},
   "cell_type": "markdown",
   "metadata": {},
   "source": [
    ">挫折するのはだいたい環境構築"
   ]
  },
  {
   "attachments": {},
   "cell_type": "markdown",
   "metadata": {},
   "source": [
    "- 理由は、コードならエラーが出るので、それをもとに解決できる\n",
    "- 環境構築の場合は、そのエラーが出る環境すらできていないため、原因を特定するのが困難\n",
    "- 環境構築は失敗したら全部消してもよいというマインドセットに望む事"
   ]
  },
  {
   "attachments": {},
   "cell_type": "markdown",
   "metadata": {},
   "source": [
    ">ベテランでも環境構築に時間がかかる場合あり"
   ]
  },
  {
   "attachments": {},
   "cell_type": "markdown",
   "metadata": {},
   "source": [
    "- 各ライブラリごとに対応してるバージョンの範囲があり、すべて問題なく動作する組み合わせの特定に時間がかかる場合がある。\n",
    "- 初心者はインストールを目的にする、ベテランは今後の影響を考えて慎重にインストールする。\n",
    "- 環境構築と聞いたら鳥肌立つくらい恐怖の対象だと認識する。（なので、みんなが同じ環境でエラーがでない環境構築ができるサービスが好まれる）"
   ]
  },
  {
   "attachments": {},
   "cell_type": "markdown",
   "metadata": {},
   "source": [
    "### 3.2.2 基本的な使い方"
   ]
  },
  {
   "attachments": {},
   "cell_type": "markdown",
   "metadata": {},
   "source": [
    "#### streamlit起動方法"
   ]
  },
  {
   "attachments": {},
   "cell_type": "markdown",
   "metadata": {},
   "source": [
    ">起動方法"
   ]
  },
  {
   "attachments": {},
   "cell_type": "markdown",
   "metadata": {},
   "source": [
    "streamlit run ファイル名.pyを使います。これによりstreamlitを起動できます。  \n",
    "例えば、streamlitのコードを書いたapp.pyのファイルをstreamlitとして起動する場合は  \n",
    "streamlit run app.py  /main.py\n",
    "となります。"
   ]
  },
  {
   "attachments": {},
   "cell_type": "markdown",
   "metadata": {},
   "source": [
    ">注意点"
   ]
  },
  {
   "attachments": {},
   "cell_type": "markdown",
   "metadata": {},
   "source": [
    "注意点として、起動したい ファイル名.py がターミナルの参照先にある必要があります。  \n",
    "ターミナルの参照先変更の方法はcdコマンドを使います。\n",
    "\n",
    "例えば、C:\\Users\\user\\Documents\\pythonのフォルダーに起動したいapp.pyのファイルがあったとします。  \n",
    "cd C:\\Users\\user\\Documents\\python  \n",
    "とすることで、参照先をapp.pyがあるフォルダーに切り替える事ができます。"
   ]
  },
  {
   "attachments": {},
   "cell_type": "markdown",
   "metadata": {},
   "source": [
    "#### 基本コマンドや基本のお作法"
   ]
  },
  {
   "attachments": {},
   "cell_type": "markdown",
   "metadata": {},
   "source": [
    "cd フォルダーの場所\n",
    "で、そのフォルダーの場所に参照先を変更できます。\n",
    "\n",
    "例えば、windowsのマイドキュメントにpythonというフォルダーを作り、ターミナルの参照先にしたい場合は、  \n",
    "cd C:\\Users\\ここPCのユーザー名\\Documents\\python  \n",
    "とすれば、参照先をpythonというフォルダーに変更できます。"
   ]
  },
  {
   "attachments": {},
   "cell_type": "markdown",
   "metadata": {},
   "source": [
    "<img src=\"pic/img034.png\">"
   ]
  },
  {
   "attachments": {},
   "cell_type": "markdown",
   "metadata": {},
   "source": [
    "参考：https://atmarkit.itmedia.co.jp/ait/articles/1709/14/news027_3.html"
   ]
  },
  {
   "attachments": {},
   "cell_type": "markdown",
   "metadata": {},
   "source": [
    "#### (補足)コマンドライン(CLI)が不安な方は、ProgateのCLIを学習する事"
   ]
  },
  {
   "attachments": {},
   "cell_type": "markdown",
   "metadata": {},
   "source": [
    "本講座ではあまり扱わないので、代わりにこちらのprogateで学習することができます。  \n",
    "[https://prog-8.com/courses/commandline](https://prog-8.com/courses/commandline)"
   ]
  },
  {
   "attachments": {},
   "cell_type": "markdown",
   "metadata": {},
   "source": [
    "#### streamlitの進め方"
   ]
  },
  {
   "attachments": {},
   "cell_type": "markdown",
   "metadata": {},
   "source": [
    ">資料"
   ]
  },
  {
   "attachments": {},
   "cell_type": "markdown",
   "metadata": {},
   "source": [
    "公式ドキュメントを見るのが一番大事です！\n",
    "\n",
    "例として、[https://streamlit.io/components](https://streamlit.io/components)を確認してみましょう。  \n",
    "様々なコンポーネントが紹介されており、それぞれのコンポーネントの詳細としてgithubの説明欄に使い方が記載されています。\n",
    "\n",
    "公式ドキュメントを読んでいても、使い方のイメージがわかない場合は、まとめ資料や解説資料を読むと良いでしょう。  \n",
    "初心者はこっちが現実です。\n"
   ]
  },
  {
   "attachments": {},
   "cell_type": "markdown",
   "metadata": {},
   "source": [
    ">解説"
   ]
  },
  {
   "attachments": {},
   "cell_type": "markdown",
   "metadata": {},
   "source": [
    "おおざっぱな理解として、公式ドキュメントを見て、だいたいなにが書いてあるかななめ読みして確認しましょう。  \n",
    "何が出来るかをざっくり確認する場合は、チートシートが秀逸です。https://docs.streamlit.io/library/cheatsheet  \n",
    "\n",
    "次に何ができる全体像をつかむために「個人のブログ」や「やってみたの動画」を見る事をおすすめします。  \n",
    "\n",
    "詳細の理解として、公式ドキュメントへアクセスして、使いたい機能の詳細設定を確認してみましょう。  \n",
    "”この機能を実装したい”、”この機能試したい”と思った者は別途メモしておくと良いでしょう。"
   ]
  },
  {
   "attachments": {},
   "cell_type": "markdown",
   "metadata": {},
   "source": [
    "#### 簡単なデプロイ方法"
   ]
  },
  {
   "attachments": {},
   "cell_type": "markdown",
   "metadata": {},
   "source": [
    ">軽いデプロイの説明"
   ]
  },
  {
   "attachments": {},
   "cell_type": "markdown",
   "metadata": {},
   "source": [
    "デプロイとは、自分が作ったプログラムを他の人が使えるようにすることです。"
   ]
  },
  {
   "attachments": {},
   "cell_type": "markdown",
   "metadata": {},
   "source": [
    ">githubとstreamlit cloudの軽い紹介"
   ]
  },
  {
   "attachments": {},
   "cell_type": "markdown",
   "metadata": {},
   "source": [
    "githubにソースコードアップロード、そのソースコードをstreamlit cloudが読み込み、公開完了(デプロイ完了)という流れになります。  \n",
    "解説の続きは次の補足で説明します。"
   ]
  },
  {
   "attachments": {},
   "cell_type": "markdown",
   "metadata": {},
   "source": [
    "<img src=\"pic/img035.png\">"
   ]
  },
  {
   "attachments": {},
   "cell_type": "markdown",
   "metadata": {},
   "source": [
    "参考：https://www.google.com/url?sa=i&url=https%3A%2F%2Fnews.knowledia.com%2FUS%2Fen%2Farticles%2Fintroducing-streamlit-components-streamlit-medium-5602014a320d58b5e7f3bfffadaaaed17aadb58d&psig=AOvVaw11a8KrXK8f044mmDVhPytu&ust=1683148887798000&source=images&cd=vfe&ved=0CBMQjhxqFwoTCIDNxqzI1_4CFQAAAAAdAAAAABAE"
   ]
  },
  {
   "attachments": {},
   "cell_type": "markdown",
   "metadata": {},
   "source": [
    "### 3.2.3 Streamlit基本実装"
   ]
  },
  {
   "attachments": {},
   "cell_type": "markdown",
   "metadata": {},
   "source": [
    "#### 簡易なWebアプリを作る"
   ]
  },
  {
   "attachments": {},
   "cell_type": "markdown",
   "metadata": {},
   "source": [
    "大枠説明として、webアプリを作るためのstreamlit開発の仕方と使えるコンポーネントなどを紹介します。\n",
    "\n",
    "紹介するコンポーネントの機能\n",
    "1. 文字の表示\n",
    "1. データの表示\n",
    "1. チャートの表示\n",
    "1. 画像の表示\n",
    "1. 文字入力蘭の表示\n",
    "1. それらの応用\n",
    "\n",
    "この順番で紹介していきます。  \n",
    "また、最後に簡易的なデプロイをします。"
   ]
  },
  {
   "attachments": {},
   "cell_type": "markdown",
   "metadata": {},
   "source": [
    ">演習用  \n",
    "※これは講義用です。実際に実行する場合は、実行ファイルである.pyファイルに記載してください。"
   ]
  },
  {
   "attachments": {},
   "cell_type": "markdown",
   "metadata": {},
   "source": [
    ">手順1：\n",
    "いまから作業するフォルダで、「main.py」を作成する"
   ]
  },
  {
   "attachments": {},
   "cell_type": "markdown",
   "metadata": {},
   "source": [
    ">手順2：以下のコードを記載して、terminalで\n",
    "streamlit run main.py\n",
    "を実行。  \n",
    "#このときに作業フォルダであることに注意  \n",
    "例:ドキュメント内のTech0というフォルダ内にmain.pyがある場合：以下の状態  \n",
    "<img src = \"./pic/img_Streamlitrun.png\">"
   ]
  },
  {
   "cell_type": "code",
   "execution_count": null,
   "metadata": {},
   "outputs": [],
   "source": [
    "import streamlit as st\n",
    "import numpy as np\n",
    "import pandas as pd\n",
    "\n",
    "st.title('Streamlit Hello World')"
   ]
  },
  {
   "attachments": {},
   "cell_type": "markdown",
   "metadata": {},
   "source": [
    ">手順3：以下のコードを記載して、terminalで\n",
    "streamlit run main.py\n",
    "を実行。　#このときに作業フォルダであることに注意"
   ]
  },
  {
   "cell_type": "code",
   "execution_count": null,
   "metadata": {},
   "outputs": [],
   "source": [
    "import streamlit as st\n",
    "import numpy as np\n",
    "import pandas as pd\n",
    "\n",
    "st.title('Streamlit Hello World') # タイトル\n",
    "\n",
    "df = pd.DataFrame({\n",
    "    '1列目': [1, 2, 3, 4],\n",
    "    '2列目': [10, 20, 30, 40]\n",
    "}) # データフレームの作成\n",
    "\n",
    "st.write(df)  # データフレームの表示\n",
    "st.dataframe(df.style.highlight_max(axis=0), width=100, height=100) # データフレームの表示（スタイル付き）\n",
    "\n",
    "#公式ドキュメントを見に行くと、いろんな表示形式があるので確認する（display data）\n",
    "\n",
    "st.table(df.style.highlight_max(axis=0)) # データフレームの表示（スタイル付き）\n",
    "\n",
    "\"\"\"\n",
    "# 章\n",
    "## 節\n",
    "### 項\n",
    "\n",
    "```python\n",
    "import streamlit as st\n",
    "import numpy as np\n",
    "import pandas as pd\n",
    "```\n",
    "\"\"\""
   ]
  },
  {
   "attachments": {},
   "cell_type": "markdown",
   "metadata": {},
   "source": [
    ">手順4：チャートの表示"
   ]
  },
  {
   "cell_type": "code",
   "execution_count": null,
   "metadata": {},
   "outputs": [],
   "source": [
    "import streamlit as st\n",
    "import numpy as np\n",
    "import pandas as pd\n",
    "\n",
    "st.title('Streamlit Hello World') # タイトル\n",
    "\n",
    "st.write('DataFrame') # テキストの表示\n",
    "\n",
    "df = pd.DataFrame(\n",
    "    np.random.rand(20, 3),\n",
    "    columns=['a', 'b', 'c']\n",
    ")   # データフレームの作成\n",
    "\n",
    "st.line_chart(df) # 折れ線グラフの表示\n",
    "st.area_chart(df) # エリアグラフの表示\n",
    "\n",
    "df = pd.DataFrame(\n",
    "    np.random.rand(100, 2)/[50, 50] + [35.69, 139.70],\n",
    "    columns=['lat', 'lon']\n",
    ")\n",
    "\n",
    "st.map(df) # 地図の表示"
   ]
  },
  {
   "attachments": {},
   "cell_type": "markdown",
   "metadata": {},
   "source": [
    ">手順5：画像の表示"
   ]
  },
  {
   "cell_type": "code",
   "execution_count": 3,
   "metadata": {},
   "outputs": [
    {
     "name": "stderr",
     "output_type": "stream",
     "text": [
      "2025-03-30 15:04:33.837 WARNING streamlit.runtime.scriptrunner_utils.script_run_context: Thread 'MainThread': missing ScriptRunContext! This warning can be ignored when running in bare mode.\n",
      "2025-03-30 15:04:34.211 \n",
      "  \u001b[33m\u001b[1mWarning:\u001b[0m to view this Streamlit app on a browser, run it with the following\n",
      "  command:\n",
      "\n",
      "    streamlit run c:\\Users\\tkhrs\\anaconda3\\envs\\python311\\Lib\\site-packages\\ipykernel_launcher.py [ARGUMENTS]\n",
      "2025-03-30 15:04:34.212 Thread 'MainThread': missing ScriptRunContext! This warning can be ignored when running in bare mode.\n",
      "2025-03-30 15:04:34.213 Thread 'MainThread': missing ScriptRunContext! This warning can be ignored when running in bare mode.\n",
      "2025-03-30 15:04:34.214 Thread 'MainThread': missing ScriptRunContext! This warning can be ignored when running in bare mode.\n",
      "2025-03-30 15:04:34.215 Thread 'MainThread': missing ScriptRunContext! This warning can be ignored when running in bare mode.\n",
      "2025-03-30 15:04:34.215 Thread 'MainThread': missing ScriptRunContext! This warning can be ignored when running in bare mode.\n",
      "2025-03-30 15:04:34.259 Thread 'MainThread': missing ScriptRunContext! This warning can be ignored when running in bare mode.\n",
      "2025-03-30 15:04:34.260 Thread 'MainThread': missing ScriptRunContext! This warning can be ignored when running in bare mode.\n",
      "2025-03-30 15:04:34.261 The `use_column_width` parameter has been deprecated and will be removed in a future release. Please utilize the `use_container_width` parameter instead.\n",
      "2025-03-30 15:04:34.262 Thread 'MainThread': missing ScriptRunContext! This warning can be ignored when running in bare mode.\n",
      "2025-03-30 15:04:34.305 Thread 'MainThread': missing ScriptRunContext! This warning can be ignored when running in bare mode.\n",
      "2025-03-30 15:04:34.306 Thread 'MainThread': missing ScriptRunContext! This warning can be ignored when running in bare mode.\n"
     ]
    },
    {
     "data": {
      "text/plain": [
       "DeltaGenerator()"
      ]
     },
     "execution_count": 3,
     "metadata": {},
     "output_type": "execute_result"
    }
   ],
   "source": [
    "import streamlit as st\n",
    "import numpy as np\n",
    "import pandas as pd\n",
    "from PIL import Image\n",
    "\n",
    "st.title('Streamlit Hello World') # タイトル\n",
    "\n",
    "st.write('Display Image') #画像の表示\n",
    "\n",
    "img = Image.open('pic/img036.jpg') # 画像の読み込み（注意：画像はダウンロードしてパスを揃えること）\n",
    "st.image(img, caption='sample', use_column_width=True) # 画像の表示\n"
   ]
  },
  {
   "attachments": {},
   "cell_type": "markdown",
   "metadata": {},
   "source": [
    ">手順６：インタラクティブに動かす"
   ]
  },
  {
   "cell_type": "code",
   "execution_count": null,
   "metadata": {},
   "outputs": [],
   "source": [
    "import streamlit as st\n",
    "import numpy as np\n",
    "import pandas as pd\n",
    "from PIL import Image\n",
    "\n",
    "st.title('Streamlit Hello World') # タイトル\n",
    "\n",
    "st.write('Interactive Widgets') # ウィジェットの表示\n",
    "\n",
    "text = st.sidebar.text_input('あなたの趣味を教えてください。') # テキスト入力\n",
    "'あなたの趣味は', text, 'です。' # テキスト表示\n",
    "\n",
    "condition = st.sidebar.slider('あなたの今の調子は？', 0, 100, 50) # スライダー\n",
    "'コンディション：', condition # テキスト表示\n"
   ]
  },
  {
   "attachments": {},
   "cell_type": "markdown",
   "metadata": {},
   "source": [
    ">手順７：応用していく"
   ]
  },
  {
   "cell_type": "code",
   "execution_count": null,
   "metadata": {},
   "outputs": [],
   "source": [
    "import streamlit as st # フロントエンドを扱うstreamlitの機能をインポート\n",
    "import time # 時間を扱う機能をインポート\n",
    "\n",
    "st.title(\"streamlitの基礎\") # タイトルが出力される\n",
    "st.write(\"hello world\") # hello worldが出力される\n",
    "\n",
    "# レイアウトとして２列を定義\n",
    "col1, col2 = st.columns(2)\n",
    "\n",
    "# 1列目をwithで囲む\n",
    "with col1:\n",
    "    st.write(\"列1がここに表示されます\")\n",
    "\n",
    "# 2列目をwithで囲む\n",
    "with col2:\n",
    "    st.write(\"列2がここに表示されます\")\n",
    "\n",
    "\n",
    "\n",
    "st.sidebar.write(\"hello world\") #.sidebar付けるとサイトバーに出力されます。\n",
    "st.text_input(\"ここに文字が入力できます。\") # テキストを入力できます。\n",
    "\n",
    "slider_text = st.slider(\"スライダーで数字を決定できます。\",0,100,5) # (最小、最大値、デフォルト値)の順で設定されます。\n",
    "\"スライダーの数字:\",slider_text\n",
    "\n",
    "st.button(\"ボタン\") # ボタンが設置されます。\n",
    "\n",
    "x = st.empty() # 文字が出力される場所をあらかじめ確保します。その場所をxとしています。\n",
    "bar = st.progress(0) # 進捗0のプログレスバーを出力します。\n",
    "\n",
    "# iに0から99まで代入しながら実行されます\n",
    "for i in range(100):\n",
    "    time.sleep(0.001) # 0.001秒待機します。\n",
    "    x.text(i) # 確保した場所xに代入されたiの値を代入します。\n",
    "    bar.progress(i) # 進捗iに変更します。\n",
    "    i += 1 # iに1足し算して代入します。\n",
    "\n",
    "# 選択肢を配列で指定して選択肢を出力します。\n",
    "st.selectbox(\"選んでください。\",[\"選択肢1\",\"選択肢2\",\"選択肢3\"])\n",
    "\n",
    "\n",
    "\n",
    "# ダウンロードする文字を定義し、output_textに代入します。\n",
    "output_text = \"この文字がダウンロードされます\"\n",
    "\n",
    " # 代入された文字をダウンロードするボタンを設置。オプションは内容をdataに指定、ファイル名をfile_nameに指定、ファイルタイプをmimeに指定\n",
    "st.download_button(label='記事内容 Download', \n",
    "                   data=output_text, \n",
    "                   file_name='out_put.txt',\n",
    "                   mime='text/plain',\n",
    "                   )\n",
    "\n",
    "\n",
    "# ファイルアップローダーを設置します。typeでアップロードできるファイルの種類を指定できます。\n",
    "file_upload = st.file_uploader(\"ここに音声認識したファイルをアップロードしてください。\",type=[\"png\",\"jpg\"])\n",
    "\n",
    "# ファイルがアップロードされた時にその画像を表示します。\n",
    "if (file_upload !=None):\n",
    "    st.image(file_upload)# 画像を表示します。\n",
    "\n",
    "\n",
    "\n",
    "import numpy as np # 数列を扱う機能をインポート\n",
    "import pandas as pd # データフレームを扱う機能をインポート\n",
    "\n",
    "# 乱数の配列を作るメソッドを作ります。引数r,cとし、それぞれおのデフォルト値を10と5に設定します。\n",
    "def rand_df(r=10, c=5):\n",
    "    df = pd.DataFrame(\n",
    "        np.random.randn(r, c),\n",
    "        columns=('col %d' % i for i in range(c)))# 乱数10の５個の数列を作ります。カラムの設定は0-4の名前を付けます。\n",
    "    return df # 作ったデータフレームを返します。\n",
    "\n",
    "dataframe = rand_df(r=10,c=3) # rに10、cに3を代入したrand_dfメソッドを処理します。\n",
    "\n",
    "# 表の描画します。\n",
    "st.dataframe(dataframe.head(n=3))\n",
    "# データフレームのチャートの描画します。\n",
    "st.line_chart(dataframe)"
   ]
  },
  {
   "attachments": {},
   "cell_type": "markdown",
   "metadata": {},
   "source": [
    ">手順8:デプロイ（公開してみる）\n",
    "1. StreamlitのWebサイトにアクセスhttps://share.streamlit.io/signup\n",
    "1. Streamlit Shareで登録する→２〜３日登録にかかるかもしれません\n",
    "1. Githubでレポジトリーを作る\n",
    "1. requirements.txtを作成しておく\n",
    "1. 作業フォルダにて次のコマンドを打ち込んでいく\n",
    "1. Pushし終わったら、Githubのレポジトリーを見に行く\n",
    "1. 無事作成できれば、streamlitのデプロイで、\"main.py\"を指定してデプロイする"
   ]
  },
  {
   "cell_type": "markdown",
   "metadata": {},
   "source": [
    "requirements.txtは、デプロイ時に使用する外部ライブラリを記載します。  \n",
    "以下がrequirements.txtに記載する内容です。  "
   ]
  },
  {
   "cell_type": "code",
   "execution_count": null,
   "metadata": {},
   "outputs": [],
   "source": [
    "streamlit\n",
    "pandas"
   ]
  },
  {
   "cell_type": "markdown",
   "metadata": {},
   "source": [
    "以下が実際にgithubにデプロイするためのコマンドです。\n",
    "＊GitHubレポジトリー作成後に実行してください。  \n",
    "\n",
    "以下が参照場所です。  \n",
    "不要なコマンドも含まれているため、今回の内容に合わせたコマンドを以下に記載しています。\n",
    "<img src = \"./pic/img_GitHub.png\">"
   ]
  },
  {
   "cell_type": "code",
   "execution_count": null,
   "metadata": {},
   "outputs": [],
   "source": [
    "git init\n",
    "git add .\n",
    "git commit -m \"first commit\"\n",
    "git branch -M main\n",
    "git remote add origin 皆さんのレポジトリー名\n",
    "git push -u origin main"
   ]
  },
  {
   "attachments": {},
   "cell_type": "markdown",
   "metadata": {},
   "source": [
    "### 3.2.4 補足）公開方法（デプロイ）+α"
   ]
  },
  {
   "attachments": {},
   "cell_type": "markdown",
   "metadata": {},
   "source": [
    "#### そもそもデプロイとは？"
   ]
  },
  {
   "attachments": {},
   "cell_type": "markdown",
   "metadata": {},
   "source": [
    "デプロイとは、作成したプログラムやアプリケーションを実際に公開することを指します。  \n",
    "つまり、自分が作ったプログラムを他の人が使えるようにすることです。"
   ]
  },
  {
   "attachments": {},
   "cell_type": "markdown",
   "metadata": {},
   "source": [
    "(例)自分が作ったアプリを友人に使ってもらいたい場合は２つの方法があります。\n",
    "\n",
    "自身のアプリを作った場合の想定ですが\n",
    "1. 自分のソースコードを渡して、友人のローカル環境で動かしてもらう\n",
    "1. インターネットを通じて他の人にアクセスできるようにする。アプリをサーバーと呼ばれるコンピュータにアップロードし、インターネットを通じて他の人がアクセスできるようにします。これがデプロイの一例です。"
   ]
  },
  {
   "attachments": {},
   "cell_type": "markdown",
   "metadata": {},
   "source": [
    "<img src=\"pic/img036.jpg\">"
   ]
  },
  {
   "attachments": {},
   "cell_type": "markdown",
   "metadata": {},
   "source": [
    "参考：https://speakerdeck.com/os1ma/gai-metezheng-li-suruwebapurinobirudodepuroinoji-ben-kontenabian"
   ]
  },
  {
   "attachments": {},
   "cell_type": "markdown",
   "metadata": {},
   "source": [
    "#### Git&Githubのキャッチアップ"
   ]
  },
  {
   "attachments": {},
   "cell_type": "markdown",
   "metadata": {},
   "source": [
    "準備としてGitの環境構築とGithubアカウントセッティングしましょう。\n",
    "それぞれのOSに関して参考を載せておきます。\n",
    "- windows(https://prog-8.com/docs/git-env-win)\n",
    "- Mac(https://prog-8.com/docs/git-env)\n",
    "\n",
    "\n",
    "Gitについて学びたい方は、さる先生のGit入門(https://backlog.com/ja/git-tutorial/)が参考になりますので、参照しましょう。"
   ]
  },
  {
   "attachments": {},
   "cell_type": "markdown",
   "metadata": {},
   "source": [
    "#### デプロイするためにGithubが必要"
   ]
  },
  {
   "attachments": {},
   "cell_type": "markdown",
   "metadata": {},
   "source": [
    "今回デプロイするためにGithubを活用します。\n",
    "\n",
    "Githubのさわりのみ概要説明になりますが、\n",
    "GitHubは、ソフトウェア開発プロジェクトのためのウェブベースのプラットフォームです。ソフトウェアのバージョン管理、コードの共有、協力、バグの追跡など、ソフトウェア開発のさまざまな側面をサポートします。\n",
    "\n",
    "GitHubは、Gitという分散バージョン管理システムをベースにしています。Gitは、コードの変更履歴を追跡し、開発者が複数の人々と協力して同じプロジェクトを管理するのに役立つツールです。GitHubは、Gitの機能を使って、リモートリポジトリ（リモートのコードの保存場所）を提供し、開発者がコードを共有し、他の人と協力してプロジェクトを進めることができるようにします。\n",
    "\n",
    "GitHubでは、プロジェクトごとにリポジトリが作成されます。リポジトリには、プロジェクトのファイルやディレクトリ、ソースコード、ドキュメントなどが格納されます。開発者は、リポジトリ内でコードの変更を行い、それをコミット（保存）してバージョン履歴を作成します。他の開発者は、リポジトリをクローン（複製）して自分の環境に取り込み、変更を加えたり、バグ修正を行ったりすることができます。そして、変更内容を再度リモートリポジトリにプッシュ（送信）することで、変更内容を共有できます。\n",
    "\n",
    "GitHubは、オープンソースプロジェクトやプライベートプロジェクトの両方に使用されています。オープンソースプロジェクトでは、誰でもコードにアクセスし、貢献することができます。プライベートプロジェクトでは、アクセスを制限して、特定の開発者やチームだけがプロジェクトに参加できるようにすることもできます。\n",
    "\n",
    "GitHubは、ソフトウェア開発者の間で非常に人気があり、オープンソースのプロジェクトや企業の内部プロジェクトなど、さまざまな規模のプロジェクトで広く利用されています。\n",
    "\n",
    "細かいことは八木動画にまとめてあります。  \n",
    "八木動画：[https://vimeo.com/783225572/1a13eaf63b?share=copy](https://vimeo.com/783225572/1a13eaf63b?share=copy)"
   ]
  },
  {
   "attachments": {},
   "cell_type": "markdown",
   "metadata": {},
   "source": [
    "### 課題\n",
    "Gitを登録できていない人は\n",
    "- windows(https://prog-8.com/docs/git-env-win)\n",
    "- Mac(https://prog-8.com/docs/git-env)\n",
    "\n",
    "こちらでセットアップを完了してください。\n",
    "\n",
    "- ここでコマンドラインインターフェース https://prog-8.com/courses/git\n",
    "- Gitの使い方 https://prog-8.com/courses/commandline\n",
    "\n",
    "もマスターしましょう。"
   ]
  },
  {
   "attachments": {},
   "cell_type": "markdown",
   "metadata": {},
   "source": [
    "#### streamlit cloudとgithubを使ったデプロイの概要"
   ]
  },
  {
   "attachments": {},
   "cell_type": "markdown",
   "metadata": {},
   "source": [
    "streamlit cloudは手軽に簡単にデプロイできます。\n",
    "\n",
    "githubにソースコードあげて、streamlit cloudがgithubからソース読み込むだけでデプロイが完了できます。  \n",
    "さらにお試しドメインも作ってくれるのですぐにアプリにアクセスできます。"
   ]
  },
  {
   "attachments": {},
   "cell_type": "markdown",
   "metadata": {},
   "source": [
    "通常のデプロイでは、以下の手順を踏みます。\n",
    "\n",
    "1. サーバーにアップロードされたファイルのどのファイルをどのように起動するかなどの設定ファイルを作成\n",
    "1. サーバーへアップロードのための専用CLIをインストール\n",
    "1. そのCLIからサーバーにアップロード\n",
    "1. アクセスのための独自ドメインを設定\n",
    "\n",
    "さらに最近では、無料でできるものが減ってきています。"
   ]
  },
  {
   "attachments": {},
   "cell_type": "markdown",
   "metadata": {},
   "source": [
    "#### Github"
   ]
  },
  {
   "attachments": {},
   "cell_type": "markdown",
   "metadata": {},
   "source": [
    ">概要"
   ]
  },
  {
   "attachments": {},
   "cell_type": "markdown",
   "metadata": {},
   "source": [
    "詳しい事は他のビデオでの補足として八木動画にまとめてあります。  \n",
    "八木動画：[https://vimeo.com/783225572/1a13eaf63b?share=copy](https://vimeo.com/783225572/1a13eaf63b?share=copy)\n",
    "\n",
    "GitHubは、ソフトウェア開発者がコードを共有し、他の開発者と協力するためのプラットフォームです。リポジトリを通じて、複数の開発者が同じプロジェクトに対して変更を行い、その変更を透明かつ効率的に統合できます。オープンソースプロジェクトでは、世界中の開発者が貢献できるため、イノベーションとコラボレーションの促進に役立ちます。\n",
    "\n",
    "ソフトウェア開発者にとって効果的なコード共有、バージョン管理、プロジェクト管理、コミュニティ形成、およびポートフォリオ展示を可能にすることにあります。開発者コミュニティにおいては、コードの共有と協力を容易にし、イノベーションと知識共有を促進する重要なツールとなっています。\n",
    "\n",
    "今回はstreamlit cloudにデプロイするために活用します。\n",
    "登録は公式のこちらからできます。https://github.com/\n",
    "\n",
    "補足として、gitとcliを学べる場所を記載しておきます。\n",
    "git：https://prog-8.com/courses/git\n",
    "cli：https://prog-8.com/courses/commandline\n",
    "\n",
    "軽く使い方を記載しておきます！"
   ]
  },
  {
   "cell_type": "code",
   "execution_count": null,
   "metadata": {},
   "outputs": [],
   "source": [
    "git init\n",
    "git add .\n",
    "git commit -m \"first commit\"\n",
    "git branch -M main\n",
    "git remote add origin 皆さんのレポジトリー名\n",
    "git push -u origin main"
   ]
  },
  {
   "attachments": {},
   "cell_type": "markdown",
   "metadata": {},
   "source": [
    "#### streamlit cloud"
   ]
  },
  {
   "attachments": {},
   "cell_type": "markdown",
   "metadata": {},
   "source": [
    "streamlit cloudはこちらからアクセスできますので、githubのアカウントでログインしておきましょう。 \n",
    "https://streamlit.io/cloud\n",
    "\n",
    "デプロイ方法は\n",
    "1. create appを選択\n",
    "1. Deploy a public app from GitHubを選択\n",
    "1. gibhubにアップロードしたリポジトリを選択\n",
    "1. 起動したい実行ファイル名を記載\n",
    "1. デプロイボタンを押す\n",
    "\n",
    "これだけです！"
   ]
  },
  {
   "cell_type": "markdown",
   "metadata": {},
   "source": [
    "<img src = \"./pic/img_Streamlitデプロイ.png\">"
   ]
  },
  {
   "attachments": {},
   "cell_type": "markdown",
   "metadata": {},
   "source": [
    "## 3.3 応用実装"
   ]
  },
  {
   "attachments": {},
   "cell_type": "markdown",
   "metadata": {},
   "source": [
    "応用実装編のjupyterファイルに続きます。"
   ]
  }
 ],
 "metadata": {
  "kernelspec": {
   "display_name": "Python 3",
   "language": "python",
   "name": "python3"
  },
  "language_info": {
   "codemirror_mode": {
    "name": "ipython",
    "version": 3
   },
   "file_extension": ".py",
   "mimetype": "text/x-python",
   "name": "python",
   "nbconvert_exporter": "python",
   "pygments_lexer": "ipython3",
   "version": "3.13.2"
  },
  "orig_nbformat": 4
 },
 "nbformat": 4,
 "nbformat_minor": 2
}
